{
  "nbformat": 4,
  "nbformat_minor": 0,
  "metadata": {
    "colab": {
      "provenance": []
    },
    "kernelspec": {
      "name": "python3",
      "display_name": "Python 3"
    },
    "language_info": {
      "name": "python"
    }
  },
  "cells": [
    {
      "cell_type": "markdown",
      "source": [
        "## ***TOPIC: Loan default***"
      ],
      "metadata": {
        "id": "I21gX9pkuL13"
      }
    },
    {
      "cell_type": "markdown",
      "source": [
        "**Aim:**\n",
        "- Examining the impact of variables such as loan type, loan purpose, business or commercial nature, and credit score on loan defaults.\n",
        "- Investigate the correlation between upfront charges, loan amount, interest rates, and property values with the likelihood of default. analyze patterns and uncover insights into default tendencies.\n",
        "- This project provides an review to enhance risk assessment strategies in lending institutions, leading to more informed decision-making and proactive default prevention measures."
      ],
      "metadata": {
        "id": "3l43v9rpehm4"
      }
    },
    {
      "cell_type": "markdown",
      "source": [
        "**Objectives:**\n",
        "- **Data Cleaning and Preprocessing:** Handle missing values, incorrect data types, and outliers.\n",
        "- **Exploratory Data Analysis (EDA):** Investigate correlations and patterns in data.\n",
        "- **Feature Analysis:**\n",
        "Assess the impact of variables like loan_type, loan_purpose, business_or_commercial, and Credit_Score on defaults.\n",
        "Examine financial metrics (Upfront_charges, loan_amount, rate_of_interest, property_value) in relation to default risk.\n",
        "- **Modeling:** Build a classification model to predict loan default probabilities.\n",
        "- **Insights & Recommendations:** Provide actionable recommendations based on findings."
      ],
      "metadata": {
        "id": "ml_3-4mLp5_r"
      }
    },
    {
      "cell_type": "code",
      "source": [
        "import numpy as np\n",
        "import pandas as pd\n",
        "import matplotlib.pyplot as plt\n",
        "import seaborn as sns"
      ],
      "metadata": {
        "id": "YqvpKgWxGhYC"
      },
      "execution_count": null,
      "outputs": []
    },
    {
      "cell_type": "code",
      "source": [
        "df = pd.read_csv(\"loan.csv\")"
      ],
      "metadata": {
        "id": "glqRJxJVuWqv"
      },
      "execution_count": null,
      "outputs": []
    },
    {
      "cell_type": "code",
      "source": [
        "df.head()"
      ],
      "metadata": {
        "colab": {
          "base_uri": "https://localhost:8080/",
          "height": 330
        },
        "id": "WtSkZBXTGeOO",
        "outputId": "6f0ef8c9-0b56-41a9-8387-bfd1ee14d0eb"
      },
      "execution_count": null,
      "outputs": [
        {
          "output_type": "execute_result",
          "data": {
            "text/plain": [
              "      ID  year loan_limit             Gender loan_type loan_purpose  \\\n",
              "0  24890  2019         cf  Sex Not Available     type1           p1   \n",
              "1  24891  2019         cf               Male     type2           p1   \n",
              "2  24892  2019         cf               Male     type1           p1   \n",
              "3  24893  2019         cf               Male     type1           p4   \n",
              "4  24894  2019         cf              Joint     type1           p1   \n",
              "\n",
              "  business_or_commercial  loan_amount  rate_of_interest  Upfront_charges  \\\n",
              "0                  nob/c       116500               NaN              NaN   \n",
              "1                    b/c       206500               NaN              NaN   \n",
              "2                  nob/c       406500              4.56            595.0   \n",
              "3                  nob/c       456500              4.25              NaN   \n",
              "4                  nob/c       696500              4.00              0.0   \n",
              "\n",
              "   property_value occupancy_type   income credit_type  Credit_Score  \\\n",
              "0        118000.0             pr   1740.0         EXP           758   \n",
              "1             NaN             pr   4980.0        EQUI           552   \n",
              "2        508000.0             pr   9480.0         EXP           834   \n",
              "3        658000.0             pr  11880.0         EXP           587   \n",
              "4        758000.0             pr  10440.0        CRIF           602   \n",
              "\n",
              "  co-applicant_credit_type    age        LTV Region  Status  \n",
              "0                      CIB  25-34  98.728814  south       1  \n",
              "1                      EXP  55-64        NaN  North       1  \n",
              "2                      CIB  35-44  80.019685  south       0  \n",
              "3                      CIB  45-54  69.376900  North       0  \n",
              "4                      EXP  25-34  91.886544  North       0  "
            ],
            "text/html": [
              "\n",
              "  <div id=\"df-6d36cacd-f68e-4b0e-b226-064dbb341886\" class=\"colab-df-container\">\n",
              "    <div>\n",
              "<style scoped>\n",
              "    .dataframe tbody tr th:only-of-type {\n",
              "        vertical-align: middle;\n",
              "    }\n",
              "\n",
              "    .dataframe tbody tr th {\n",
              "        vertical-align: top;\n",
              "    }\n",
              "\n",
              "    .dataframe thead th {\n",
              "        text-align: right;\n",
              "    }\n",
              "</style>\n",
              "<table border=\"1\" class=\"dataframe\">\n",
              "  <thead>\n",
              "    <tr style=\"text-align: right;\">\n",
              "      <th></th>\n",
              "      <th>ID</th>\n",
              "      <th>year</th>\n",
              "      <th>loan_limit</th>\n",
              "      <th>Gender</th>\n",
              "      <th>loan_type</th>\n",
              "      <th>loan_purpose</th>\n",
              "      <th>business_or_commercial</th>\n",
              "      <th>loan_amount</th>\n",
              "      <th>rate_of_interest</th>\n",
              "      <th>Upfront_charges</th>\n",
              "      <th>property_value</th>\n",
              "      <th>occupancy_type</th>\n",
              "      <th>income</th>\n",
              "      <th>credit_type</th>\n",
              "      <th>Credit_Score</th>\n",
              "      <th>co-applicant_credit_type</th>\n",
              "      <th>age</th>\n",
              "      <th>LTV</th>\n",
              "      <th>Region</th>\n",
              "      <th>Status</th>\n",
              "    </tr>\n",
              "  </thead>\n",
              "  <tbody>\n",
              "    <tr>\n",
              "      <th>0</th>\n",
              "      <td>24890</td>\n",
              "      <td>2019</td>\n",
              "      <td>cf</td>\n",
              "      <td>Sex Not Available</td>\n",
              "      <td>type1</td>\n",
              "      <td>p1</td>\n",
              "      <td>nob/c</td>\n",
              "      <td>116500</td>\n",
              "      <td>NaN</td>\n",
              "      <td>NaN</td>\n",
              "      <td>118000.0</td>\n",
              "      <td>pr</td>\n",
              "      <td>1740.0</td>\n",
              "      <td>EXP</td>\n",
              "      <td>758</td>\n",
              "      <td>CIB</td>\n",
              "      <td>25-34</td>\n",
              "      <td>98.728814</td>\n",
              "      <td>south</td>\n",
              "      <td>1</td>\n",
              "    </tr>\n",
              "    <tr>\n",
              "      <th>1</th>\n",
              "      <td>24891</td>\n",
              "      <td>2019</td>\n",
              "      <td>cf</td>\n",
              "      <td>Male</td>\n",
              "      <td>type2</td>\n",
              "      <td>p1</td>\n",
              "      <td>b/c</td>\n",
              "      <td>206500</td>\n",
              "      <td>NaN</td>\n",
              "      <td>NaN</td>\n",
              "      <td>NaN</td>\n",
              "      <td>pr</td>\n",
              "      <td>4980.0</td>\n",
              "      <td>EQUI</td>\n",
              "      <td>552</td>\n",
              "      <td>EXP</td>\n",
              "      <td>55-64</td>\n",
              "      <td>NaN</td>\n",
              "      <td>North</td>\n",
              "      <td>1</td>\n",
              "    </tr>\n",
              "    <tr>\n",
              "      <th>2</th>\n",
              "      <td>24892</td>\n",
              "      <td>2019</td>\n",
              "      <td>cf</td>\n",
              "      <td>Male</td>\n",
              "      <td>type1</td>\n",
              "      <td>p1</td>\n",
              "      <td>nob/c</td>\n",
              "      <td>406500</td>\n",
              "      <td>4.56</td>\n",
              "      <td>595.0</td>\n",
              "      <td>508000.0</td>\n",
              "      <td>pr</td>\n",
              "      <td>9480.0</td>\n",
              "      <td>EXP</td>\n",
              "      <td>834</td>\n",
              "      <td>CIB</td>\n",
              "      <td>35-44</td>\n",
              "      <td>80.019685</td>\n",
              "      <td>south</td>\n",
              "      <td>0</td>\n",
              "    </tr>\n",
              "    <tr>\n",
              "      <th>3</th>\n",
              "      <td>24893</td>\n",
              "      <td>2019</td>\n",
              "      <td>cf</td>\n",
              "      <td>Male</td>\n",
              "      <td>type1</td>\n",
              "      <td>p4</td>\n",
              "      <td>nob/c</td>\n",
              "      <td>456500</td>\n",
              "      <td>4.25</td>\n",
              "      <td>NaN</td>\n",
              "      <td>658000.0</td>\n",
              "      <td>pr</td>\n",
              "      <td>11880.0</td>\n",
              "      <td>EXP</td>\n",
              "      <td>587</td>\n",
              "      <td>CIB</td>\n",
              "      <td>45-54</td>\n",
              "      <td>69.376900</td>\n",
              "      <td>North</td>\n",
              "      <td>0</td>\n",
              "    </tr>\n",
              "    <tr>\n",
              "      <th>4</th>\n",
              "      <td>24894</td>\n",
              "      <td>2019</td>\n",
              "      <td>cf</td>\n",
              "      <td>Joint</td>\n",
              "      <td>type1</td>\n",
              "      <td>p1</td>\n",
              "      <td>nob/c</td>\n",
              "      <td>696500</td>\n",
              "      <td>4.00</td>\n",
              "      <td>0.0</td>\n",
              "      <td>758000.0</td>\n",
              "      <td>pr</td>\n",
              "      <td>10440.0</td>\n",
              "      <td>CRIF</td>\n",
              "      <td>602</td>\n",
              "      <td>EXP</td>\n",
              "      <td>25-34</td>\n",
              "      <td>91.886544</td>\n",
              "      <td>North</td>\n",
              "      <td>0</td>\n",
              "    </tr>\n",
              "  </tbody>\n",
              "</table>\n",
              "</div>\n",
              "    <div class=\"colab-df-buttons\">\n",
              "\n",
              "  <div class=\"colab-df-container\">\n",
              "    <button class=\"colab-df-convert\" onclick=\"convertToInteractive('df-6d36cacd-f68e-4b0e-b226-064dbb341886')\"\n",
              "            title=\"Convert this dataframe to an interactive table.\"\n",
              "            style=\"display:none;\">\n",
              "\n",
              "  <svg xmlns=\"http://www.w3.org/2000/svg\" height=\"24px\" viewBox=\"0 -960 960 960\">\n",
              "    <path d=\"M120-120v-720h720v720H120Zm60-500h600v-160H180v160Zm220 220h160v-160H400v160Zm0 220h160v-160H400v160ZM180-400h160v-160H180v160Zm440 0h160v-160H620v160ZM180-180h160v-160H180v160Zm440 0h160v-160H620v160Z\"/>\n",
              "  </svg>\n",
              "    </button>\n",
              "\n",
              "  <style>\n",
              "    .colab-df-container {\n",
              "      display:flex;\n",
              "      gap: 12px;\n",
              "    }\n",
              "\n",
              "    .colab-df-convert {\n",
              "      background-color: #E8F0FE;\n",
              "      border: none;\n",
              "      border-radius: 50%;\n",
              "      cursor: pointer;\n",
              "      display: none;\n",
              "      fill: #1967D2;\n",
              "      height: 32px;\n",
              "      padding: 0 0 0 0;\n",
              "      width: 32px;\n",
              "    }\n",
              "\n",
              "    .colab-df-convert:hover {\n",
              "      background-color: #E2EBFA;\n",
              "      box-shadow: 0px 1px 2px rgba(60, 64, 67, 0.3), 0px 1px 3px 1px rgba(60, 64, 67, 0.15);\n",
              "      fill: #174EA6;\n",
              "    }\n",
              "\n",
              "    .colab-df-buttons div {\n",
              "      margin-bottom: 4px;\n",
              "    }\n",
              "\n",
              "    [theme=dark] .colab-df-convert {\n",
              "      background-color: #3B4455;\n",
              "      fill: #D2E3FC;\n",
              "    }\n",
              "\n",
              "    [theme=dark] .colab-df-convert:hover {\n",
              "      background-color: #434B5C;\n",
              "      box-shadow: 0px 1px 3px 1px rgba(0, 0, 0, 0.15);\n",
              "      filter: drop-shadow(0px 1px 2px rgba(0, 0, 0, 0.3));\n",
              "      fill: #FFFFFF;\n",
              "    }\n",
              "  </style>\n",
              "\n",
              "    <script>\n",
              "      const buttonEl =\n",
              "        document.querySelector('#df-6d36cacd-f68e-4b0e-b226-064dbb341886 button.colab-df-convert');\n",
              "      buttonEl.style.display =\n",
              "        google.colab.kernel.accessAllowed ? 'block' : 'none';\n",
              "\n",
              "      async function convertToInteractive(key) {\n",
              "        const element = document.querySelector('#df-6d36cacd-f68e-4b0e-b226-064dbb341886');\n",
              "        const dataTable =\n",
              "          await google.colab.kernel.invokeFunction('convertToInteractive',\n",
              "                                                    [key], {});\n",
              "        if (!dataTable) return;\n",
              "\n",
              "        const docLinkHtml = 'Like what you see? Visit the ' +\n",
              "          '<a target=\"_blank\" href=https://colab.research.google.com/notebooks/data_table.ipynb>data table notebook</a>'\n",
              "          + ' to learn more about interactive tables.';\n",
              "        element.innerHTML = '';\n",
              "        dataTable['output_type'] = 'display_data';\n",
              "        await google.colab.output.renderOutput(dataTable, element);\n",
              "        const docLink = document.createElement('div');\n",
              "        docLink.innerHTML = docLinkHtml;\n",
              "        element.appendChild(docLink);\n",
              "      }\n",
              "    </script>\n",
              "  </div>\n",
              "\n",
              "\n",
              "<div id=\"df-b4aaf78d-cf78-406b-bf0a-aa393651f97a\">\n",
              "  <button class=\"colab-df-quickchart\" onclick=\"quickchart('df-b4aaf78d-cf78-406b-bf0a-aa393651f97a')\"\n",
              "            title=\"Suggest charts\"\n",
              "            style=\"display:none;\">\n",
              "\n",
              "<svg xmlns=\"http://www.w3.org/2000/svg\" height=\"24px\"viewBox=\"0 0 24 24\"\n",
              "     width=\"24px\">\n",
              "    <g>\n",
              "        <path d=\"M19 3H5c-1.1 0-2 .9-2 2v14c0 1.1.9 2 2 2h14c1.1 0 2-.9 2-2V5c0-1.1-.9-2-2-2zM9 17H7v-7h2v7zm4 0h-2V7h2v10zm4 0h-2v-4h2v4z\"/>\n",
              "    </g>\n",
              "</svg>\n",
              "  </button>\n",
              "\n",
              "<style>\n",
              "  .colab-df-quickchart {\n",
              "      --bg-color: #E8F0FE;\n",
              "      --fill-color: #1967D2;\n",
              "      --hover-bg-color: #E2EBFA;\n",
              "      --hover-fill-color: #174EA6;\n",
              "      --disabled-fill-color: #AAA;\n",
              "      --disabled-bg-color: #DDD;\n",
              "  }\n",
              "\n",
              "  [theme=dark] .colab-df-quickchart {\n",
              "      --bg-color: #3B4455;\n",
              "      --fill-color: #D2E3FC;\n",
              "      --hover-bg-color: #434B5C;\n",
              "      --hover-fill-color: #FFFFFF;\n",
              "      --disabled-bg-color: #3B4455;\n",
              "      --disabled-fill-color: #666;\n",
              "  }\n",
              "\n",
              "  .colab-df-quickchart {\n",
              "    background-color: var(--bg-color);\n",
              "    border: none;\n",
              "    border-radius: 50%;\n",
              "    cursor: pointer;\n",
              "    display: none;\n",
              "    fill: var(--fill-color);\n",
              "    height: 32px;\n",
              "    padding: 0;\n",
              "    width: 32px;\n",
              "  }\n",
              "\n",
              "  .colab-df-quickchart:hover {\n",
              "    background-color: var(--hover-bg-color);\n",
              "    box-shadow: 0 1px 2px rgba(60, 64, 67, 0.3), 0 1px 3px 1px rgba(60, 64, 67, 0.15);\n",
              "    fill: var(--button-hover-fill-color);\n",
              "  }\n",
              "\n",
              "  .colab-df-quickchart-complete:disabled,\n",
              "  .colab-df-quickchart-complete:disabled:hover {\n",
              "    background-color: var(--disabled-bg-color);\n",
              "    fill: var(--disabled-fill-color);\n",
              "    box-shadow: none;\n",
              "  }\n",
              "\n",
              "  .colab-df-spinner {\n",
              "    border: 2px solid var(--fill-color);\n",
              "    border-color: transparent;\n",
              "    border-bottom-color: var(--fill-color);\n",
              "    animation:\n",
              "      spin 1s steps(1) infinite;\n",
              "  }\n",
              "\n",
              "  @keyframes spin {\n",
              "    0% {\n",
              "      border-color: transparent;\n",
              "      border-bottom-color: var(--fill-color);\n",
              "      border-left-color: var(--fill-color);\n",
              "    }\n",
              "    20% {\n",
              "      border-color: transparent;\n",
              "      border-left-color: var(--fill-color);\n",
              "      border-top-color: var(--fill-color);\n",
              "    }\n",
              "    30% {\n",
              "      border-color: transparent;\n",
              "      border-left-color: var(--fill-color);\n",
              "      border-top-color: var(--fill-color);\n",
              "      border-right-color: var(--fill-color);\n",
              "    }\n",
              "    40% {\n",
              "      border-color: transparent;\n",
              "      border-right-color: var(--fill-color);\n",
              "      border-top-color: var(--fill-color);\n",
              "    }\n",
              "    60% {\n",
              "      border-color: transparent;\n",
              "      border-right-color: var(--fill-color);\n",
              "    }\n",
              "    80% {\n",
              "      border-color: transparent;\n",
              "      border-right-color: var(--fill-color);\n",
              "      border-bottom-color: var(--fill-color);\n",
              "    }\n",
              "    90% {\n",
              "      border-color: transparent;\n",
              "      border-bottom-color: var(--fill-color);\n",
              "    }\n",
              "  }\n",
              "</style>\n",
              "\n",
              "  <script>\n",
              "    async function quickchart(key) {\n",
              "      const quickchartButtonEl =\n",
              "        document.querySelector('#' + key + ' button');\n",
              "      quickchartButtonEl.disabled = true;  // To prevent multiple clicks.\n",
              "      quickchartButtonEl.classList.add('colab-df-spinner');\n",
              "      try {\n",
              "        const charts = await google.colab.kernel.invokeFunction(\n",
              "            'suggestCharts', [key], {});\n",
              "      } catch (error) {\n",
              "        console.error('Error during call to suggestCharts:', error);\n",
              "      }\n",
              "      quickchartButtonEl.classList.remove('colab-df-spinner');\n",
              "      quickchartButtonEl.classList.add('colab-df-quickchart-complete');\n",
              "    }\n",
              "    (() => {\n",
              "      let quickchartButtonEl =\n",
              "        document.querySelector('#df-b4aaf78d-cf78-406b-bf0a-aa393651f97a button');\n",
              "      quickchartButtonEl.style.display =\n",
              "        google.colab.kernel.accessAllowed ? 'block' : 'none';\n",
              "    })();\n",
              "  </script>\n",
              "</div>\n",
              "\n",
              "    </div>\n",
              "  </div>\n"
            ],
            "application/vnd.google.colaboratory.intrinsic+json": {
              "type": "dataframe",
              "variable_name": "df"
            }
          },
          "metadata": {},
          "execution_count": 3
        }
      ]
    },
    {
      "cell_type": "code",
      "source": [
        "df.info()"
      ],
      "metadata": {
        "colab": {
          "base_uri": "https://localhost:8080/"
        },
        "id": "UbYgtFPeG7RI",
        "outputId": "bf5268fe-0368-43b0-9de4-f082f923382b"
      },
      "execution_count": null,
      "outputs": [
        {
          "output_type": "stream",
          "name": "stdout",
          "text": [
            "<class 'pandas.core.frame.DataFrame'>\n",
            "RangeIndex: 148670 entries, 0 to 148669\n",
            "Data columns (total 20 columns):\n",
            " #   Column                    Non-Null Count   Dtype  \n",
            "---  ------                    --------------   -----  \n",
            " 0   ID                        148670 non-null  int64  \n",
            " 1   year                      148670 non-null  int64  \n",
            " 2   loan_limit                145326 non-null  object \n",
            " 3   Gender                    148670 non-null  object \n",
            " 4   loan_type                 148670 non-null  object \n",
            " 5   loan_purpose              148536 non-null  object \n",
            " 6   business_or_commercial    148670 non-null  object \n",
            " 7   loan_amount               148670 non-null  int64  \n",
            " 8   rate_of_interest          112231 non-null  float64\n",
            " 9   Upfront_charges           109028 non-null  float64\n",
            " 10  property_value            133572 non-null  float64\n",
            " 11  occupancy_type            148670 non-null  object \n",
            " 12  income                    139520 non-null  float64\n",
            " 13  credit_type               148670 non-null  object \n",
            " 14  Credit_Score              148670 non-null  int64  \n",
            " 15  co-applicant_credit_type  148670 non-null  object \n",
            " 16  age                       148470 non-null  object \n",
            " 17  LTV                       133572 non-null  float64\n",
            " 18  Region                    148670 non-null  object \n",
            " 19  Status                    148670 non-null  int64  \n",
            "dtypes: float64(5), int64(5), object(10)\n",
            "memory usage: 22.7+ MB\n"
          ]
        }
      ]
    },
    {
      "cell_type": "markdown",
      "source": [
        "**Data Columns Description:**\n",
        "- **ID:** Id for each row\n",
        "- **year:** year when the loan was taken\n",
        "- **loan_limit:** if the loan limit is fixed or variable cf-confirm/fixed, ncf- not confirm/not fixed\n",
        "- **Gender:** gender of the applicant, can be male female, not specified, joint (in case of applling as a couple for home loan)\n",
        "- **loan_type:** type of loan (masked data ) type-1, type-2, type-3\n",
        "- **loan_purpose:** purpose of the loan (masked data ) p1,p2,p3,p4\n",
        "- **business_or_commercial:** if the loan is for sommercial establishment or personal establishment\n",
        "- **loan_amount:** amount of the loan\n",
        "- **rate_of_interest:** rate of interest for the loan\n",
        "- **Upfront_charges:** down payment done by the applicant\n",
        "- **property_value:** value of the property being constructed for which the loan is taken\n",
        "- **occupancy_type:** for the establishment\n",
        "- **income:** income of the applicant\n",
        "- **credit_type:** 'EXP' 'EQUI' 'CRIF' 'CIB'\n",
        "- **Credit_Score:** credit score of applicant\n",
        "- **co-applicant_credit_type:** credit type for co-applicant\n",
        "- **age:** age of applicant\n",
        "- **LTV:** lifetime value of the applicant\n",
        "- **Region:** region of the applicant\n",
        "- **Status:** defaulter(1) or normal(0)\n"
      ],
      "metadata": {
        "id": "erdiW_d12ojy"
      }
    },
    {
      "cell_type": "markdown",
      "source": [
        "**1. Data Cleaning:**\n"
      ],
      "metadata": {
        "id": "p9Oj87IZqk7Y"
      }
    },
    {
      "cell_type": "code",
      "source": [
        "# Check for missing values in each column\n",
        "missing_values = df.isnull().sum()\n",
        "\n",
        "# Display columns with missing values and their counts\n",
        "missing_values[missing_values > 0]"
      ],
      "metadata": {
        "id": "GzQYUhblqJwr",
        "colab": {
          "base_uri": "https://localhost:8080/",
          "height": 335
        },
        "outputId": "bb7fc9aa-79f4-4c15-cf5e-1945f54a7fb5"
      },
      "execution_count": null,
      "outputs": [
        {
          "output_type": "execute_result",
          "data": {
            "text/plain": [
              "loan_limit           3344\n",
              "loan_purpose          134\n",
              "rate_of_interest    36439\n",
              "Upfront_charges     39642\n",
              "property_value      15098\n",
              "income               9150\n",
              "age                   200\n",
              "LTV                 15098\n",
              "dtype: int64"
            ],
            "text/html": [
              "<div>\n",
              "<style scoped>\n",
              "    .dataframe tbody tr th:only-of-type {\n",
              "        vertical-align: middle;\n",
              "    }\n",
              "\n",
              "    .dataframe tbody tr th {\n",
              "        vertical-align: top;\n",
              "    }\n",
              "\n",
              "    .dataframe thead th {\n",
              "        text-align: right;\n",
              "    }\n",
              "</style>\n",
              "<table border=\"1\" class=\"dataframe\">\n",
              "  <thead>\n",
              "    <tr style=\"text-align: right;\">\n",
              "      <th></th>\n",
              "      <th>0</th>\n",
              "    </tr>\n",
              "  </thead>\n",
              "  <tbody>\n",
              "    <tr>\n",
              "      <th>loan_limit</th>\n",
              "      <td>3344</td>\n",
              "    </tr>\n",
              "    <tr>\n",
              "      <th>loan_purpose</th>\n",
              "      <td>134</td>\n",
              "    </tr>\n",
              "    <tr>\n",
              "      <th>rate_of_interest</th>\n",
              "      <td>36439</td>\n",
              "    </tr>\n",
              "    <tr>\n",
              "      <th>Upfront_charges</th>\n",
              "      <td>39642</td>\n",
              "    </tr>\n",
              "    <tr>\n",
              "      <th>property_value</th>\n",
              "      <td>15098</td>\n",
              "    </tr>\n",
              "    <tr>\n",
              "      <th>income</th>\n",
              "      <td>9150</td>\n",
              "    </tr>\n",
              "    <tr>\n",
              "      <th>age</th>\n",
              "      <td>200</td>\n",
              "    </tr>\n",
              "    <tr>\n",
              "      <th>LTV</th>\n",
              "      <td>15098</td>\n",
              "    </tr>\n",
              "  </tbody>\n",
              "</table>\n",
              "</div><br><label><b>dtype:</b> int64</label>"
            ]
          },
          "metadata": {},
          "execution_count": 5
        }
      ]
    },
    {
      "cell_type": "code",
      "source": [
        "# Handling Missing Values:\n",
        "\n",
        "# Numerical Columns (Continuous Data):\n",
        "numerical_cols = ['rate_of_interest', 'Upfront_charges', 'property_value', 'income', 'LTV']\n",
        "for col in numerical_cols:\n",
        "    df[col] = df[col].fillna(df[col].median())\n",
        "\n",
        "# Categorical Columns:\n",
        "df['loan_limit'] = df['loan_limit'].fillna(df['loan_limit'].mode()[0])\n",
        "df['loan_purpose'] = df['loan_purpose'].fillna('Unknown')\n",
        "\n",
        "# Special Handling for age (if ranges exist) If age has non-standard values (like ranges), ensure they are cleaned first:\n",
        "df['age'] = df['age'].apply(lambda x: int(x.split('-')[0]) if '-' in str(x) else np.nan)\n",
        "df['age'] = df['age'].fillna(df['age'].median())\n"
      ],
      "metadata": {
        "id": "F04epCrn7jz8"
      },
      "execution_count": null,
      "outputs": []
    },
    {
      "cell_type": "markdown",
      "source": [
        "Insight:\n",
        "- Numerical Columns (Continuous Data): rate_of_interest, Upfront_charges, property_value, income, LTV, age\n",
        "  - Use the median for imputation to handle outliers.\n",
        "\n",
        "- Categorical Columns: loan_limit, loan_purpose\n",
        "  - Use the most frequent value or add an \"Unknown\" category.\n",
        "\n"
      ],
      "metadata": {
        "id": "SEX3pxgg-DEO"
      }
    },
    {
      "cell_type": "code",
      "source": [
        "# Check data types of each column\n",
        "print(df.dtypes)"
      ],
      "metadata": {
        "colab": {
          "base_uri": "https://localhost:8080/"
        },
        "id": "s7i15dUT-Yv_",
        "outputId": "57d25123-d9db-47a8-b669-a3d561280709"
      },
      "execution_count": null,
      "outputs": [
        {
          "output_type": "stream",
          "name": "stdout",
          "text": [
            "ID                            int64\n",
            "year                          int64\n",
            "loan_limit                   object\n",
            "Gender                       object\n",
            "loan_type                    object\n",
            "loan_purpose                 object\n",
            "business_or_commercial       object\n",
            "loan_amount                   int64\n",
            "rate_of_interest            float64\n",
            "Upfront_charges             float64\n",
            "property_value              float64\n",
            "occupancy_type               object\n",
            "income                      float64\n",
            "credit_type                  object\n",
            "Credit_Score                  int64\n",
            "co-applicant_credit_type     object\n",
            "age                         float64\n",
            "LTV                         float64\n",
            "Region                       object\n",
            "Status                        int64\n",
            "dtype: object\n"
          ]
        }
      ]
    },
    {
      "cell_type": "code",
      "source": [
        "df['age'] = df['age'].astype(int)"
      ],
      "metadata": {
        "id": "v6uTRjyY-7ck"
      },
      "execution_count": null,
      "outputs": []
    },
    {
      "cell_type": "markdown",
      "source": [
        "Insight: All data types are appropriately defined for analysis, with numerical columns like loan_amount and rate_of_interest correctly set as int64 or float64, and categorical columns like Gender and loan_type as object. The only adjustment needed is converting the age column from object to int after cleaning. Overall, the dataset is well-structured."
      ],
      "metadata": {
        "id": "OCc_HABE-e_j"
      }
    },
    {
      "cell_type": "markdown",
      "source": [
        "**2. Exploratory Data Analysis (EDA)**"
      ],
      "metadata": {
        "id": "GFnMMEjZEQcx"
      }
    },
    {
      "cell_type": "code",
      "source": [
        "# Summary Statistics:\n",
        "print(df.describe())"
      ],
      "metadata": {
        "colab": {
          "base_uri": "https://localhost:8080/"
        },
        "id": "JVUJNrJQ_94F",
        "outputId": "0edee057-4efe-48bc-8dc3-fd2d3da8d0e1"
      },
      "execution_count": null,
      "outputs": [
        {
          "output_type": "stream",
          "name": "stdout",
          "text": [
            "                  ID      year   loan_amount  rate_of_interest  \\\n",
            "count  148670.000000  148670.0  1.486700e+05     148670.000000   \n",
            "mean    99224.500000    2019.0  3.311177e+05          4.031879   \n",
            "std     42917.476598       0.0  1.839093e+05          0.488348   \n",
            "min     24890.000000    2019.0  1.650000e+04          0.000000   \n",
            "25%     62057.250000    2019.0  1.965000e+05          3.750000   \n",
            "50%     99224.500000    2019.0  2.965000e+05          3.990000   \n",
            "75%    136391.750000    2019.0  4.365000e+05          4.250000   \n",
            "max    173559.000000    2019.0  3.576500e+06          8.000000   \n",
            "\n",
            "       Upfront_charges  property_value         income   Credit_Score  \\\n",
            "count    148670.000000    1.486700e+05  148670.000000  148670.000000   \n",
            "mean       3057.397919    4.897800e+05    6883.647811     699.789103   \n",
            "std        2797.972965    3.420221e+05    6300.067060     115.875857   \n",
            "min           0.000000    8.000000e+03       0.000000     500.000000   \n",
            "25%        1250.000000    2.880000e+05    3840.000000     599.000000   \n",
            "50%        2596.450000    4.180000e+05    5760.000000     699.000000   \n",
            "75%        3889.495000    5.980000e+05    8280.000000     800.000000   \n",
            "max       60000.000000    1.650800e+07  578580.000000     900.000000   \n",
            "\n",
            "                 age            LTV         Status  \n",
            "count  148670.000000  148670.000000  148670.000000  \n",
            "mean       45.196408      72.989111       0.246445  \n",
            "std        12.297739      37.890714       0.430942  \n",
            "min        25.000000       0.967478       0.000000  \n",
            "25%        35.000000      63.297872       0.000000  \n",
            "50%        45.000000      75.135870       0.000000  \n",
            "75%        55.000000      84.722222       0.000000  \n",
            "max        65.000000    7831.250000       1.000000  \n"
          ]
        }
      ]
    },
    {
      "cell_type": "code",
      "source": [
        "# Separate numerical and categorical columns based on their data types\n",
        "numerical_columns = df.select_dtypes(include=['number']).columns.tolist()\n",
        "categorical_columns = df.select_dtypes(include=['object']).columns.tolist()\n",
        "\n",
        "# Display the lists\n",
        "print(\"Numerical Columns:\", numerical_columns)\n",
        "print(\"Categorical Columns:\", categorical_columns)\n",
        "\n",
        "# Check Correlations (Numerical Columns):\n",
        "correlation_matrix = df[numerical_columns].corr()\n",
        "print(correlation_matrix)"
      ],
      "metadata": {
        "colab": {
          "base_uri": "https://localhost:8080/"
        },
        "id": "oZyn_kA-FiN9",
        "outputId": "da704a0c-0377-4708-a6e5-9ad5b25e5e1d"
      },
      "execution_count": null,
      "outputs": [
        {
          "output_type": "stream",
          "name": "stdout",
          "text": [
            "Numerical Columns: ['ID', 'year', 'loan_amount', 'rate_of_interest', 'Upfront_charges', 'property_value', 'income', 'Credit_Score', 'age', 'LTV', 'Status']\n",
            "Categorical Columns: ['loan_limit', 'Gender', 'loan_type', 'loan_purpose', 'business_or_commercial', 'occupancy_type', 'credit_type', 'co-applicant_credit_type', 'Region']\n",
            "                        ID  year  loan_amount  rate_of_interest  \\\n",
            "ID                1.000000   NaN    -0.000566          0.000298   \n",
            "year                   NaN   NaN          NaN               NaN   \n",
            "loan_amount      -0.000566   NaN     1.000000         -0.122830   \n",
            "rate_of_interest  0.000298   NaN    -0.122830          1.000000   \n",
            "Upfront_charges  -0.004886   NaN     0.057451         -0.071066   \n",
            "property_value    0.000833   NaN     0.686242         -0.102772   \n",
            "income            0.002260   NaN     0.440715         -0.014341   \n",
            "Credit_Score     -0.001036   NaN     0.004438         -0.001341   \n",
            "age               0.006040   NaN    -0.175203          0.026582   \n",
            "LTV              -0.005516   NaN     0.036361         -0.002258   \n",
            "Status            0.001703   NaN    -0.036825         -0.046738   \n",
            "\n",
            "                  Upfront_charges  property_value    income  Credit_Score  \\\n",
            "ID                      -0.004886        0.000833  0.002260     -0.001036   \n",
            "year                          NaN             NaN       NaN           NaN   \n",
            "loan_amount              0.057451        0.686242  0.440715      0.004438   \n",
            "rate_of_interest        -0.071066       -0.102772 -0.014341     -0.001341   \n",
            "Upfront_charges          1.000000        0.050689  0.027104     -0.001691   \n",
            "property_value           0.050689        1.000000  0.389435      0.002165   \n",
            "income                   0.027104        0.389435  1.000000      0.000902   \n",
            "Credit_Score            -0.001691        0.002165  0.000902      1.000000   \n",
            "age                      0.090462        0.005532 -0.060855     -0.001287   \n",
            "LTV                     -0.032499       -0.215871 -0.034317     -0.005208   \n",
            "Status                  -0.095094       -0.080905 -0.060618      0.004004   \n",
            "\n",
            "                       age       LTV    Status  \n",
            "ID                0.006040 -0.005516  0.001703  \n",
            "year                   NaN       NaN       NaN  \n",
            "loan_amount      -0.175203  0.036361 -0.036825  \n",
            "rate_of_interest  0.026582 -0.002258 -0.046738  \n",
            "Upfront_charges   0.090462 -0.032499 -0.095094  \n",
            "property_value    0.005532 -0.215871 -0.080905  \n",
            "income           -0.060855 -0.034317 -0.060618  \n",
            "Credit_Score     -0.001287 -0.005208  0.004004  \n",
            "age               1.000000 -0.123764  0.038576  \n",
            "LTV              -0.123764  1.000000  0.042656  \n",
            "Status            0.038576  0.042656  1.000000  \n"
          ]
        }
      ]
    },
    {
      "cell_type": "code",
      "source": [
        "# Visualize Relationships:\n",
        "# Loan Amount vs. Rate of Interest:\n",
        "\n",
        "sns.scatterplot(x='loan_amount', y='rate_of_interest', data=df)\n",
        "plt.title('Loan Amount vs. Rate of Interest')\n",
        "plt.show()"
      ],
      "metadata": {
        "id": "e5Ws1-eVImSe",
        "colab": {
          "base_uri": "https://localhost:8080/",
          "height": 472
        },
        "outputId": "4c4b8082-5d8a-482c-de12-0e225d9ff031"
      },
      "execution_count": null,
      "outputs": [
        {
          "output_type": "display_data",
          "data": {
            "text/plain": [
              "<Figure size 640x480 with 1 Axes>"
            ],
            "image/png": "[encoded data removed]"
          },
          "metadata": {}
        }
      ]
    },
    {
      "cell_type": "markdown",
      "source": [
        "**Insight from the Scatter Plot (Loan Amount vs. Rate of Interest)**\n",
        "\n",
        "Inverse Relationship:\n",
        "- The plot suggests an inverse relationship between the loan amount and the rate of interest. As the loan amount increases, the rate of interest tends to decrease.\n",
        "\n",
        "Clustering of Data:\n",
        "- There is a dense cluster of loans with amounts under 1.5 million, where the rate of interest hovers mostly between 3% and 6%. This indicates that most loans fall within this range, both in terms of amount and interest rate.\n",
        "\n",
        "Outliers:\n",
        "- A few outliers can be seen, where either the loan amount is significantly high or the interest rate is unusually low or high. These may represent special cases like high-value loans with favorable interest terms or unique risk profiles.\n",
        "\n",
        "Possible Interpretation:\n",
        "- Large Loans, Lower Risk: Larger loans might be associated with more creditworthy borrowers or secured by valuable collateral, resulting in lower interest rates.\n",
        "- Smaller Loans, Higher Risk: Smaller loans could be riskier or issued to borrowers with lower creditworthiness, leading to higher interest rates."
      ],
      "metadata": {
        "id": "PhyJ5TEd7OET"
      }
    },
    {
      "cell_type": "code",
      "source": [
        "# Analyze Categorical Variables\n",
        "# Loan Purpose Distribution:\n",
        "\n",
        "df['loan_purpose'].value_counts().plot(kind='bar')\n",
        "plt.title('Loan Purpose Distribution')\n",
        "plt.show()"
      ],
      "metadata": {
        "colab": {
          "base_uri": "https://localhost:8080/",
          "height": 522
        },
        "id": "twV0X8bi6pHQ",
        "outputId": "74c75872-6f47-44a0-86e1-00157f834c93"
      },
      "execution_count": null,
      "outputs": [
        {
          "output_type": "display_data",
          "data": {
            "text/plain": [
              "<Figure size 640x480 with 1 Axes>"
            ],
            "image/png": "[encoded data removed]"
          },
          "metadata": {}
        }
      ]
    },
    {
      "cell_type": "markdown",
      "source": [
        "**Insights from the Visuals:**\n",
        "Loan Purpose Distribution:\n",
        "- Dominance of p3 and p4: Loan purposes labeled as p3 and p4 are the most common, each with around 50,000+ entries. This suggests these two purposes are the primary reasons for loan applications.\n",
        "- Significantly Lower Frequency for p2: Loans with the purpose p2 are minimal compared to others, indicating that this category is either less common or more exclusive.\n",
        "- \"Unknown\" Category: There is a small presence of \"Unknown\" entries, which could indicate missing or unclear data on the loan's purpose.\n",
        "\n",
        "Summary:\n",
        "\n",
        "Loan Purpose Insight: Most loans are associated with purposes p3 and p4, while p2 is rare.\n"
      ],
      "metadata": {
        "id": "VuvxVJ0578PX"
      }
    },
    {
      "cell_type": "code",
      "source": [
        "# Analyze Default Patterns\n",
        "# Defaults by Loan Type:\n",
        "\n",
        "sns.countplot(x='loan_type', hue='Status', data=df)\n",
        "plt.title('Loan Type vs. Default Status')\n",
        "plt.show()"
      ],
      "metadata": {
        "colab": {
          "base_uri": "https://localhost:8080/",
          "height": 472
        },
        "id": "2G7HzNl-688X",
        "outputId": "21bf3412-08aa-4361-defe-7652bd2b06c3"
      },
      "execution_count": null,
      "outputs": [
        {
          "output_type": "display_data",
          "data": {
            "text/plain": [
              "<Figure size 640x480 with 1 Axes>"
            ],
            "image/png": "[encoded data removed]"
          },
          "metadata": {}
        }
      ]
    },
    {
      "cell_type": "markdown",
      "source": [
        "**Insights from the Visuals:**\n",
        "Loan Type vs. Default Status:\n",
        "- Type1 Loans and Default Risk: Loan type type1 shows the highest count of defaults (Status = 1) compared to type2 and type3. This implies that type1 loans may be riskier.\n",
        "- Type2 and Type3 Stability: Both type2 and type3 loans have fewer defaults, suggesting these might be structured differently or targeted at more creditworthy borrowers.\n",
        "- Proportion of Defaults: A significant proportion of type1 loans are non-defaults, but it still has a notable number of defaults, indicating a mix of high volume and potential risk.\n",
        "\n",
        "Summary:\n",
        "\n",
        "Loan Type Insight: type1 loans are more prone to defaults, indicating possible higher risk or broader accessibility to less creditworthy borrowers."
      ],
      "metadata": {
        "id": "PINgjzsw8Bkf"
      }
    },
    {
      "cell_type": "code",
      "source": [],
      "metadata": {
        "id": "rwJWi_AH9lw6"
      },
      "execution_count": null,
      "outputs": []
    },
    {
      "cell_type": "markdown",
      "source": [
        "1. **Borrower Demographics and Default Patterns:**\n",
        "- **Age vs. Default:** Examine if there are age groups more likely to default.\n",
        "- **Gender Analysis:** Investigate if there's a correlation between gender and default rates.\n",
        "- **Region vs. Default:** Identify if certain regions have higher default tendencies."
      ],
      "metadata": {
        "id": "oF29A8Ua9eJW"
      }
    },
    {
      "cell_type": "code",
      "source": [
        "# Age vs. Default:\n",
        "# Examine if certain age groups are more likely to default.\n",
        "\n",
        "# Steps:\n",
        "# Create Age Groups: Divide the age column into bins (e.g., 18-25, 26-35, etc.) using pd.cut().\n",
        "# Group and Analyze Defaults: Group the data by these age bins and calculate the default rate for each group.\n",
        "\n",
        "# Create age groups\n",
        "age_bins = [18, 25, 35, 45, 55, 65, 75, 100]\n",
        "age_labels = ['18-25', '26-35', '36-45', '46-55', '56-65', '66-75', '75+']\n",
        "df['age_group'] = pd.cut(df['age'], bins=age_bins, labels=age_labels)\n",
        "\n",
        "# Calculate default rate by age group\n",
        "age_default_rate = df.groupby('age_group')['Status'].mean()\n",
        "\n",
        "# Plotting\n",
        "age_default_rate.plot(kind='bar', color='skyblue')\n",
        "plt.title('Default Rate by Age Group')\n",
        "plt.xlabel('Age Group')\n",
        "plt.ylabel('Default Rate')\n",
        "plt.show()"
      ],
      "metadata": {
        "colab": {
          "base_uri": "https://localhost:8080/",
          "height": 553
        },
        "id": "ncZyHN6j7lHd",
        "outputId": "0ed0fc4e-3eb7-4e0c-fcb5-140da92b948c"
      },
      "execution_count": null,
      "outputs": [
        {
          "output_type": "stream",
          "name": "stderr",
          "text": [
            "<ipython-input-17-dc54b6337661>:12: FutureWarning: The default of observed=False is deprecated and will be changed to True in a future version of pandas. Pass observed=False to retain current behavior or observed=True to adopt the future default and silence this warning.\n",
            "  age_default_rate = df.groupby('age_group')['Status'].mean()\n"
          ]
        },
        {
          "output_type": "display_data",
          "data": {
            "text/plain": [
              "<Figure size 640x480 with 1 Axes>"
            ],
            "image/png": "[encoded data removed]"
          },
          "metadata": {}
        }
      ]
    },
    {
      "cell_type": "code",
      "source": [
        "# Gender Analysis:\n",
        "# Investigate if gender impacts default rates.\n",
        "\n",
        "# Steps:\n",
        "# Group by Gender and Calculate Default Rate: Group by the Gender column and calculate the mean of the Status column (default rate).\n",
        "\n",
        "# Calculate default rate by Gender\n",
        "gender_default_rate = df.groupby('Gender')['Status'].mean()\n",
        "\n",
        "# Plotting\n",
        "gender_default_rate.plot(kind='bar', color='orange')\n",
        "plt.title('Default Rate by Gender')\n",
        "plt.xlabel('Gender')\n",
        "plt.ylabel('Default Rate')\n",
        "plt.show()"
      ],
      "metadata": {
        "colab": {
          "base_uri": "https://localhost:8080/",
          "height": 579
        },
        "id": "yQqf4pef972K",
        "outputId": "ad01a384-7560-476d-8aa9-90369904ddf7"
      },
      "execution_count": null,
      "outputs": [
        {
          "output_type": "display_data",
          "data": {
            "text/plain": [
              "<Figure size 640x480 with 1 Axes>"
            ],
            "image/png": "[encoded data removed]"
          },
          "metadata": {}
        }
      ]
    },
    {
      "cell_type": "code",
      "source": [
        "# Region vs. Default:\n",
        "# Check if certain regions have higher default tendencies.\n",
        "\n",
        "# Steps:\n",
        "# Group by Region and Calculate Default Rate: Use groupby() on the Region column and calculate the default rate.\n",
        "\n",
        "# Calculate default rate by Region\n",
        "region_default_rate = df.groupby('Region')['Status'].mean()\n",
        "\n",
        "# Plotting\n",
        "region_default_rate.plot(kind='bar', color='green', figsize=(10, 6))\n",
        "plt.title('Default Rate by Region')\n",
        "plt.xlabel('Region')\n",
        "plt.ylabel('Default Rate')\n",
        "plt.xticks(rotation=45)\n",
        "plt.show()\n"
      ],
      "metadata": {
        "colab": {
          "base_uri": "https://localhost:8080/",
          "height": 612
        },
        "id": "qRoEd6Yw-Kmp",
        "outputId": "80fb621c-8cd8-4415-c5d4-e5c14a3a8234"
      },
      "execution_count": null,
      "outputs": [
        {
          "output_type": "display_data",
          "data": {
            "text/plain": [
              "<Figure size 1000x600 with 1 Axes>"
            ],
            "image/png": "[encoded data removed]"
          },
          "metadata": {}
        }
      ]
    },
    {
      "cell_type": "markdown",
      "source": [
        "**Insights**\n",
        "1. Default Rate by Age Group:\n",
        "- Observation: Default rates increase consistently with age, peaking at the 56-65 age group.\n",
        "- Insight: Older individuals (56-65) seem to be at higher risk of default. The default rate stabilizes after age 65.\n",
        "2. Default Rate by Gender:\n",
        "- Observation: Males and individuals with unspecified gender (\"Sex Not Available\") show higher default rates compared to females and joint accounts.\n",
        "- Insight: Gender plays a role, with male borrowers potentially facing higher risk. Joint accounts have the lowest default rate, possibly indicating shared financial responsibility reduces risk.\n",
        "3. Default Rate by Region:\n",
        "- Observation: The North-East region has the highest default rate, while the North has the lowest.\n",
        "- Insight: Regional factors could significantly impact default rates, possibly due to economic conditions or lending practices in different areas.\n",
        "\n",
        "- Overall Insight:\n",
        "Age, gender, and regional factors all influence default rates. Targeted interventions for higher-risk groups (older age brackets, specific regions, and gender categories) could help manage defaults."
      ],
      "metadata": {
        "id": "5ghAKqJP_caE"
      }
    },
    {
      "cell_type": "markdown",
      "source": [
        "## **Feature Engineering**"
      ],
      "metadata": {
        "id": "g-00RnG-AYhz"
      }
    },
    {
      "cell_type": "code",
      "source": [
        "# Creating New Features:\n",
        "\n",
        "# (a) Debt-to-Income (DTI) Ratio: Estimate how much debt a borrower has compared to their income.\n",
        "\n",
        "df['DTI_ratio'] = df['loan_amount'] / (df['income'] + 1e-5)  # Avoid division by zero"
      ],
      "metadata": {
        "id": "yOsqdgIR-ZT8"
      },
      "execution_count": null,
      "outputs": []
    },
    {
      "cell_type": "code",
      "source": [
        "# (b) Interest Rate Category: Categorize rate_of_interest into bins (e.g., Low, Medium, High).\n",
        "\n",
        "df['interest_rate_category'] = pd.cut(df['rate_of_interest'], bins=[0, 4, 7, 10], labels=['Low', 'Medium', 'High'])"
      ],
      "metadata": {
        "id": "w0YKqLkkAiAN"
      },
      "execution_count": null,
      "outputs": []
    },
    {
      "cell_type": "code",
      "source": [
        "# (c) LTV Risk Level: Convert LTV ratios into risk levels.\n",
        "\n",
        "df['LTV_risk_level'] = pd.cut(df['LTV'], bins=[0, 50, 80, 100], labels=['Low', 'Medium', 'High'])"
      ],
      "metadata": {
        "id": "CRMCXj0UBDPF"
      },
      "execution_count": null,
      "outputs": []
    },
    {
      "cell_type": "code",
      "source": [
        "# (d) Credit Score Category: Bin credit scores into categories like 'Poor', 'Fair', 'Good', 'Excellent'.\n",
        "\n",
        "df['Credit_Score_Category'] = pd.cut(df['Credit_Score'], bins=[0, 600, 700, 800, 900], labels=['Poor', 'Fair', 'Good', 'Excellent'])\n"
      ],
      "metadata": {
        "id": "WPRT_OfRBLAI"
      },
      "execution_count": null,
      "outputs": []
    },
    {
      "cell_type": "code",
      "source": [
        "# Encoding Categorical Variables:\n",
        "# (a) One-Hot Encoding: For features with a few unique values like loan_type or Gender.\n",
        "\n",
        "df = pd.get_dummies(df, columns=['loan_type', 'Gender', 'loan_limit'], drop_first=True)\n"
      ],
      "metadata": {
        "id": "FdfFg4LyBV2u"
      },
      "execution_count": null,
      "outputs": []
    },
    {
      "cell_type": "code",
      "source": [
        "# (b) Label Encoding: For ordinal categorical data or large categorical features like Region or Credit_Type.\n",
        "\n",
        "from sklearn.preprocessing import LabelEncoder\n",
        "\n",
        "# Example for encoding Region\n",
        "label_encoder = LabelEncoder()\n",
        "df['Region_encoded'] = label_encoder.fit_transform(df['Region'])\n"
      ],
      "metadata": {
        "id": "xt9Nd2DVBhao"
      },
      "execution_count": null,
      "outputs": []
    },
    {
      "cell_type": "code",
      "source": [
        "# Feature Interaction: Create features that combine multiple columns to capture complex relationships.\n",
        "\n",
        "# (a) Loan Amount to Property Value Ratio:\n",
        "df['loan_to_property_value'] = df['loan_amount'] / (df['property_value'] + 1e-5)\n",
        "\n",
        "# (b) Income-to-Loan Amount Ratio:\n",
        "df['income_to_loan_ratio'] = df['income'] / (df['loan_amount'] + 1e-5)"
      ],
      "metadata": {
        "id": "0Rab0GakBpaf"
      },
      "execution_count": null,
      "outputs": []
    },
    {
      "cell_type": "code",
      "source": [
        "# Date-Based Features: If year is included, create features like loan age or whether it's a recent loan.\n",
        "\n",
        "current_year = 2024\n",
        "df['loan_age'] = current_year - df['year']"
      ],
      "metadata": {
        "id": "1dQqPIvDB3xI"
      },
      "execution_count": null,
      "outputs": []
    },
    {
      "cell_type": "code",
      "source": [
        "#Removing Redundant Features: After creating new features, drop redundant or irrelevant columns, such as ID or highly correlated columns.\n",
        "\n",
        "df.drop(['ID', 'Region', 'year'], axis=1, inplace=True)"
      ],
      "metadata": {
        "id": "23OiC9xoCEC0"
      },
      "execution_count": 31,
      "outputs": []
    },
    {
      "cell_type": "markdown",
      "source": [
        "## **Modelling**"
      ],
      "metadata": {
        "id": "F4TUQQxJFgVn"
      }
    },
    {
      "cell_type": "code",
      "source": [
        "from sklearn.model_selection import train_test_split\n",
        "from sklearn.ensemble import RandomForestClassifier\n",
        "from sklearn.metrics import classification_report, roc_auc_score\n",
        "\n",
        "# Prepare data for modeling\n",
        "X = df[['loan_amount', 'rate_of_interest', 'Upfront_charges', 'property_value', 'debt_to_income']]\n",
        "y = df['Status']\n",
        "\n",
        "# Train-Test Split\n",
        "X_train, X_test, y_train, y_test = train_test_split(X, y, test_size=0.3, random_state=42)\n",
        "\n",
        "# Handle NaN and Inf values\n",
        "X_train = X_train.replace([np.inf, -np.inf], np.nan)  # Replace infinite values with NaN\n",
        "X_test = X_test.replace([np.inf, -np.inf], np.nan)\n",
        "X_train = X_train.fillna(X_train.mean())              # Fill NaN with column mean\n",
        "X_test = X_test.fillna(X_train.mean())                # Use train mean to avoid data leakage\n",
        "\n",
        "# Train a Random Forest model\n",
        "model = RandomForestClassifier(random_state=42)\n",
        "model.fit(X_train, y_train)\n",
        "\n",
        "# Predictions\n",
        "y_pred = model.predict(X_test)\n",
        "y_prob = model.predict_proba(X_test)[:, 1]\n",
        "\n",
        "# Evaluation\n",
        "print(classification_report(y_test, y_pred))\n",
        "print(\"ROC AUC Score:\", roc_auc_score(y_test, y_prob))\n"
      ],
      "metadata": {
        "colab": {
          "base_uri": "https://localhost:8080/"
        },
        "id": "-W_CSEz5F6cS",
        "outputId": "443ebf41-6701-48e1-8116-213d8a6828b3"
      },
      "execution_count": 38,
      "outputs": [
        {
          "output_type": "stream",
          "name": "stdout",
          "text": [
            "              precision    recall  f1-score   support\n",
            "\n",
            "           0       1.00      1.00      1.00     33687\n",
            "           1       0.99      0.99      0.99     10914\n",
            "\n",
            "    accuracy                           1.00     44601\n",
            "   macro avg       0.99      1.00      0.99     44601\n",
            "weighted avg       1.00      1.00      1.00     44601\n",
            "\n",
            "ROC AUC Score: 0.9977697038489793\n"
          ]
        }
      ]
    },
    {
      "cell_type": "markdown",
      "source": [
        "**Insights from the Classification Report and ROC AUC Score:**\n",
        "**Precision, Recall, F1-Score:**\n",
        "\n",
        "- Class 0 (Non-Defaulters): Precision, Recall, and F1-Score are all 1.00, indicating the model predicts non-defaulters almost perfectly.\n",
        "- Class 1 (Defaulters): Precision and Recall are both 0.99, showing that the model is highly accurate in identifying defaulters, with only minimal errors.\n",
        "- F1-Score: 0.99 for defaulters, indicating a good balance between precision and recall.\n",
        "- Overall Accuracy: The model achieves an impressive 1.00 (almost perfect) accuracy, suggesting very few, if any, misclassifications.\n",
        "\n",
        "- ROC AUC Score: The score of 0.998 indicates an excellent ability to distinguish between defaulters and non-defaulters. A score close to 1.0 means the model performs exceptionally well.\n",
        "\n",
        "- Conclusion:\n",
        "The model is highly effective in predicting loan default risk, with near-perfect performance metrics. However, such high accuracy could also suggest:\n",
        " - Potential overfitting: The model might be too closely tailored to the training data, reducing its generalizability to new or unseen data. Further validation on an external dataset is recommended.\n",
        " - Data Imbalance Handling: Ensure the distribution of default (1) and non-default (0) is balanced or properly handled.\n",
        "- Consider evaluating on a validation dataset or using cross-validation for robust performance estimation."
      ],
      "metadata": {
        "id": "JWYqmHgcHIeR"
      }
    },
    {
      "cell_type": "code",
      "source": [],
      "metadata": {
        "id": "biLLJpcvHqki"
      },
      "execution_count": null,
      "outputs": []
    },
    {
      "cell_type": "markdown",
      "source": [
        "## **Insight & Recommendations:**\n",
        "\n",
        "***Overall Insights:***\n",
        "- **Outstanding Model Performance:**\n",
        "The Random Forest model achieved a near-perfect accuracy of 100% and an ROC AUC score of 0.998, indicating excellent predictive performance in distinguishing defaulters from non-defaulters.\n",
        "Both precision and recall for defaulters (Class 1) were around 99%, meaning the model effectively minimizes false positives and false negatives.\n",
        "- **Imbalance Between Classes:**\n",
        "The number of non-defaulters (Class 0) is significantly higher than defaulters (Class 1), which can contribute to the high overall accuracy. This suggests that despite the model's success, further validation on balanced or new data may be necessary.\n",
        "- **Potential Overfitting:**\n",
        "The near-perfect scores may indicate the model has overfitted the training data. While the model performs well on the current test set, it may not generalize as effectively to new or unseen data.\n",
        "\n",
        "***Recommendations:***\n",
        "- **Validate on External Data:** Use a separate validation set or apply cross-validation to assess the model’s robustness and ensure it generalizes well beyond the training data.\n",
        "- **Address Potential Overfitting:** Implement techniques like hyperparameter tuning, feature selection, and regularization to enhance the model’s generalizability.\n",
        "- **Consider Class Imbalance:** Explore methods such as SMOTE (Synthetic Minority Over-sampling Technique) or class weighting in the Random Forest model to ensure the model does not favor the majority class (non-defaulters).\n",
        "- **Feature Importance Analysis:** Identify key drivers of loan defaults by examining feature importance from the Random Forest model. This insight can guide lending decisions and risk management strategies.\n",
        "- **Enhance Business Interpretability:** Create actionable insights by exploring the impact of borrower demographics, loan characteristics (LTV, loan amount, interest rates), and other features on default probabilities.\n",
        "- **Model Deployment and Monitoring:** If deploying in production, set up continuous monitoring to track performance metrics over time and retrain the model periodically with updated data to maintain accuracy.\n",
        "\n",
        "-- By following these recommendations, the model can serve as a powerful tool for proactive risk management in lending, helping financial institutions minimize loan default risks while making informed lending decisions."
      ],
      "metadata": {
        "id": "gFZbkFf2H5DV"
      }
    }
  ]
}